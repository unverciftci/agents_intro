{
  "nbformat": 4,
  "nbformat_minor": 0,
  "metadata": {
    "colab": {
      "provenance": [],
      "gpuType": "T4",
      "authorship_tag": "ABX9TyO6IsoGaMUlGiMjVnC7lHd1",
      "include_colab_link": true
    },
    "kernelspec": {
      "name": "python3",
      "display_name": "Python 3"
    },
    "language_info": {
      "name": "python"
    },
    "accelerator": "GPU"
  },
  "cells": [
    {
      "cell_type": "markdown",
      "metadata": {
        "id": "view-in-github",
        "colab_type": "text"
      },
      "source": [
        "<a href=\"https://colab.research.google.com/github/unverciftci/agents_intro/blob/main/Notebook_1.ipynb\" target=\"_parent\"><img src=\"https://colab.research.google.com/assets/colab-badge.svg\" alt=\"Open In Colab\"/></a>"
      ]
    },
    {
      "cell_type": "markdown",
      "source": [
        "## The Brain\n",
        "### Our intelligent agent needs a brain which is basically an LLM model.\n",
        "- We prefer Qwen/Qwen3-0.6B (For more information: https://huggingface.co/Qwen/Qwen3-0.6B)\n",
        "- Our model is memory efficient and fast\n",
        "- But most importantly it has agentic capabilities.\n"
      ],
      "metadata": {
        "id": "gEutWneWGNgg"
      }
    },
    {
      "cell_type": "markdown",
      "source": [
        "### As a start we install requirements and import libraries.\n"
      ],
      "metadata": {
        "id": "kPO6xDLW2wwv"
      }
    },
    {
      "cell_type": "code",
      "source": [
        "# Step 1: Install requirements\n",
        "!pip install transformers torch accelerate -q\n",
        "\n",
        "# Step 2: Import libraries\n",
        "from transformers import AutoModelForCausalLM, AutoTokenizer\n",
        "import torch"
      ],
      "metadata": {
        "id": "Mj8gqVCl2g6t"
      },
      "execution_count": 2,
      "outputs": []
    },
    {
      "cell_type": "markdown",
      "source": [
        "## Next we load our model"
      ],
      "metadata": {
        "id": "yg3AOS-03Az2"
      }
    },
    {
      "cell_type": "code",
      "source": [
        "# Step 3: Load the AI model\n",
        "print(\"Loading AI...\")\n",
        "model_name = \"Qwen/Qwen3-0.6B\"\n",
        "\n",
        "tokenizer = AutoTokenizer.from_pretrained(model_name)\n",
        "model = AutoModelForCausalLM.from_pretrained(\n",
        "    model_name,\n",
        "    torch_dtype=\"auto\",\n",
        "    device_map=\"auto\"\n",
        ")\n",
        "print(\"✅ AI ready!\")"
      ],
      "metadata": {
        "id": "qUF2pjpb2rvY"
      },
      "execution_count": null,
      "outputs": []
    },
    {
      "cell_type": "markdown",
      "source": [
        "## The following functon is to chat with our model"
      ],
      "metadata": {
        "id": "hLQrIG6N3HZ8"
      }
    },
    {
      "cell_type": "code",
      "source": [
        "# Step 4: Create the chat function\n",
        "def chat_with_ai(message):\n",
        "    \"\"\"Send a message to AI and get response\"\"\"\n",
        "\n",
        "    # Format as chat\n",
        "    messages = [{\"role\": \"user\", \"content\": message}]\n",
        "\n",
        "    # Apply chat template\n",
        "    text = tokenizer.apply_chat_template(\n",
        "        messages,\n",
        "        tokenize=False,\n",
        "        add_generation_prompt=True,\n",
        "        enable_thinking=False\n",
        "    )\n",
        "\n",
        "    # Generate response\n",
        "    model_inputs = tokenizer([text], return_tensors=\"pt\").to(model.device)\n",
        "\n",
        "    with torch.no_grad():\n",
        "        generated_ids = model.generate(\n",
        "            **model_inputs,\n",
        "            max_new_tokens=1000,\n",
        "            temperature=0.7,\n",
        "            do_sample=True\n",
        "        )\n",
        "\n",
        "    # Extract response\n",
        "    output_ids = generated_ids[0][len(model_inputs.input_ids[0]):].tolist()\n",
        "    response = tokenizer.decode(output_ids, skip_special_tokens=True).strip()\n",
        "\n",
        "    return response"
      ],
      "metadata": {
        "id": "ZnoSjaft3OdR"
      },
      "execution_count": 4,
      "outputs": []
    },
    {
      "cell_type": "markdown",
      "source": [
        "## So let's give it a spin"
      ],
      "metadata": {
        "id": "2jUgRZM53m-j"
      }
    },
    {
      "cell_type": "code",
      "execution_count": null,
      "metadata": {
        "id": "nMQTwolLEkrW"
      },
      "outputs": [],
      "source": [
        "# Step 5: Test your AI\n",
        "print(\"\\n🧪 Testing your AI:\")\n",
        "\n",
        "test_messages = [\n",
        "    \"Hello! What's your name?\",\n",
        "    \"What can you help me with?\",\n",
        "    \"Tell me a fun fact\"\n",
        "]\n",
        "\n",
        "for message in test_messages:\n",
        "    print(f\"\\n👤 You: {message}\")\n",
        "    response = chat_with_ai(message)\n",
        "    print(f\"🤖 AI: {response}\")\n",
        "\n",
        "# Step 6: Interactive chat (optional)\n",
        "def start_chat():\n",
        "    \"\"\"Interactive chat with your AI\"\"\"\n",
        "    print(\"\\n💬 Start chatting! Type 'quit' to exit.\")\n",
        "\n",
        "    while True:\n",
        "        user_message = input(\"\\n👤 You: \")\n",
        "\n",
        "        if user_message.lower() in ['quit', 'exit', 'q']:\n",
        "            print(\"👋 Goodbye!\")\n",
        "            break\n",
        "\n",
        "        if user_message.strip():\n",
        "            ai_response = chat_with_ai(user_message)\n",
        "            print(f\"🤖 AI: {ai_response}\")\n",
        "\n",
        "# Ready to chat? Uncomment the line below:\n",
        "#start_chat()\n",
        "\n",
        "print(\"\\n🎉 Congratulations! You have a working AI!\")"
      ]
    },
    {
      "cell_type": "markdown",
      "source": [
        "## Now that you can try it\n",
        "- Just type in your question\n",
        "- To end the conversation just type 'quit', 'exit' or 'q'"
      ],
      "metadata": {
        "id": "X3d7Ko-S3-hk"
      }
    },
    {
      "cell_type": "code",
      "source": [
        "# Ready to chat?\n",
        "# Type 'quit', 'exit' or 'q' to end conversation.\n",
        "start_chat()"
      ],
      "metadata": {
        "id": "Wmkpn0rREqVV"
      },
      "execution_count": null,
      "outputs": []
    }
  ]
}