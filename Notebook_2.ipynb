{
  "nbformat": 4,
  "nbformat_minor": 0,
  "metadata": {
    "colab": {
      "provenance": [],
      "gpuType": "T4",
      "authorship_tag": "ABX9TyPKCMvKE9wewLv2vEkApxVI",
      "include_colab_link": true
    },
    "kernelspec": {
      "name": "python3",
      "display_name": "Python 3"
    },
    "language_info": {
      "name": "python"
    },
    "accelerator": "GPU"
  },
  "cells": [
    {
      "cell_type": "markdown",
      "metadata": {
        "id": "view-in-github",
        "colab_type": "text"
      },
      "source": [
        "<a href=\"https://colab.research.google.com/github/unverciftci/agents_intro/blob/main/Notebook_2.ipynb\" target=\"_parent\"><img src=\"https://colab.research.google.com/assets/colab-badge.svg\" alt=\"Open In Colab\"/></a>"
      ]
    },
    {
      "cell_type": "markdown",
      "source": [
        "# AI Agent with Tools\n",
        "\n",
        "### We want to transform our chatbot into tool-using agent. Our tools for this example are calculator and whather information. Of course this is not the ideal way of connecting our model to the outer world but it is a good start."
      ],
      "metadata": {
        "id": "a4j4a_KQ77bT"
      }
    },
    {
      "cell_type": "markdown",
      "source": [
        "As before, we load and prepare the model for getting useful answers (decisions in our case)"
      ],
      "metadata": {
        "id": "gX3ONEHK8CDA"
      }
    },
    {
      "cell_type": "code",
      "source": [
        "import re\n",
        "from transformers import AutoModelForCausalLM, AutoTokenizer\n",
        "import torch\n",
        "\n",
        "# Load AI (same as Tutorial 1)\n",
        "print(\"Loading AI...\")\n",
        "model_name = \"Qwen/Qwen3-0.6B\"\n",
        "\n",
        "tokenizer = AutoTokenizer.from_pretrained(model_name)\n",
        "model = AutoModelForCausalLM.from_pretrained(\n",
        "    model_name,\n",
        "    torch_dtype=\"auto\",\n",
        "    device_map=\"auto\"\n",
        ")\n",
        "print(\"✅ AI ready!\")\n",
        "\n",
        "def ask_ai(prompt):\n",
        "    \"\"\"Send prompt to AI and get response\"\"\"\n",
        "    messages = [{\"role\": \"user\", \"content\": prompt}]\n",
        "    text = tokenizer.apply_chat_template(\n",
        "        messages, tokenize=False, add_generation_prompt=True, enable_thinking=False\n",
        "    )\n",
        "    model_inputs = tokenizer([text], return_tensors=\"pt\").to(model.device)\n",
        "\n",
        "    with torch.no_grad():\n",
        "        generated_ids = model.generate(\n",
        "            **model_inputs,\n",
        "            max_new_tokens=120,\n",
        "            temperature=0.3,\n",
        "            do_sample=True,\n",
        "        )\n",
        "\n",
        "    output_ids = generated_ids[0][len(model_inputs.input_ids[0]):].tolist()\n",
        "    return tokenizer.decode(output_ids, skip_special_tokens=True).strip()"
      ],
      "metadata": {
        "id": "QHDriQ3u8Isx"
      },
      "execution_count": null,
      "outputs": []
    },
    {
      "cell_type": "markdown",
      "source": [
        "Let's create useful tools for our model to do the tasks more efficiently"
      ],
      "metadata": {
        "id": "IsiS9Al28LRX"
      }
    },
    {
      "cell_type": "code",
      "source": [
        "# Step 2: Create tools\n",
        "def calculator(expression):\n",
        "    \"\"\"Simple calculator tool\"\"\"\n",
        "    try:\n",
        "        result = eval(expression)\n",
        "        return f\"Result: {result}\"\n",
        "    except:\n",
        "        return \"Error: Invalid calculation\"\n",
        "\n",
        "def get_weather(city):\n",
        "    \"\"\"Weather tool (simulated data)\"\"\"\n",
        "    weather_data = {\n",
        "        \"paris\": \"Sunny, 22°C\",\n",
        "        \"london\": \"Rainy, 15°C\",\n",
        "        \"tokyo\": \"Cloudy, 18°C\",\n",
        "        \"new york\": \"Windy, 20°C\"\n",
        "    }\n",
        "    return weather_data.get(city.lower(), \"Weather data not available\")\n",
        "\n",
        "# Tool registry\n",
        "TOOLS = {\n",
        "    \"calculator\": calculator,\n",
        "    \"get_weather\": get_weather\n",
        "}\n",
        "\n",
        "print(\"✅ Tools ready: calculator, get_weather\")"
      ],
      "metadata": {
        "id": "drvbYYId8fjz"
      },
      "execution_count": null,
      "outputs": []
    },
    {
      "cell_type": "markdown",
      "source": [
        "Now we build the tool-using agent"
      ],
      "metadata": {
        "id": "pvpY5c-I9T3O"
      }
    },
    {
      "cell_type": "code",
      "source": [
        "# Step 3: Agent with tools\n",
        "def agent_with_tools(user_message):\n",
        "    \"\"\"AI agent that can use tools\"\"\"\n",
        "\n",
        "    # System prompt with examples\n",
        "    system_prompt = f\"\"\"You are an AI assistant that can use tools. When you need to:\n",
        "- Calculate something: use TOOL:calculator:expression\n",
        "- Get weather: use TOOL:get_weather:city\n",
        "\n",
        "Examples:\n",
        "User: What's 15 + 27?\n",
        "AI: I'll calculate that for you. TOOL:calculator:15+27\n",
        "\n",
        "User: What's the weather in Paris?\n",
        "AI: Let me check the weather. TOOL:get_weather:paris\n",
        "\n",
        "User: Hi there!\n",
        "AI: Hello! How can I help you today?\n",
        "\n",
        "User: {user_message}\n",
        "AI:\"\"\"\n",
        "\n",
        "    print(f\"👤 User: {user_message}\")\n",
        "\n",
        "    # Get AI response\n",
        "    ai_response = ask_ai(system_prompt)\n",
        "    print(f\"🤖 AI: {ai_response}\")\n",
        "\n",
        "    # Check if AI wants to use a tool\n",
        "    if \"TOOL:\" in ai_response:\n",
        "        tool_match = re.search(r'TOOL:(\\w+):(.+)', ai_response)\n",
        "        if tool_match:\n",
        "            tool_name = tool_match.group(1)\n",
        "            tool_input = tool_match.group(2).strip()\n",
        "\n",
        "            print(f\"🛠️ Using tool: {tool_name}({tool_input})\")\n",
        "\n",
        "            if tool_name in TOOLS:\n",
        "                tool_result = TOOLS[tool_name](tool_input)\n",
        "                print(f\"✅ Tool result: {tool_result}\")\n",
        "\n",
        "                # Get final response with tool result\n",
        "                final_prompt = system_prompt + ai_response + f\"\\nTool result: {tool_result}\\nFinal response:\"\n",
        "                final_response = ask_ai(final_prompt)\n",
        "\n",
        "                return f\"{ai_response}\\nTool result: {tool_result}\\n{final_response}\"\n",
        "            else:\n",
        "                return f\"{ai_response}\\nError: Unknown tool '{tool_name}'\"\n",
        "\n",
        "    return ai_response"
      ],
      "metadata": {
        "id": "oO_9NO5j9icT"
      },
      "execution_count": 3,
      "outputs": []
    },
    {
      "cell_type": "markdown",
      "source": [
        "It's test time!"
      ],
      "metadata": {
        "id": "p0CyfLLN9jk-"
      }
    },
    {
      "cell_type": "code",
      "execution_count": null,
      "metadata": {
        "id": "HDsoDGAVM1nn"
      },
      "outputs": [],
      "source": [
        "# Step 4: Test the agent\n",
        "print(\"\\n🧪 Testing agent with tools:\")\n",
        "\n",
        "test_questions = [\n",
        "    \"What's 25 * 4?\",\n",
        "    \"What's the weather in London?\",\n",
        "    \"Hello! How are you?\",\n",
        "    \"Calculate 100 / 5 please\"\n",
        "]\n",
        "\n",
        "for question in test_questions:\n",
        "    print(f\"\\n--- Test ---\")\n",
        "    response = agent_with_tools(question)\n",
        "    print(f\"Final response: {response}\")\n",
        "    print(\"-\" * 40)\n",
        "\n",
        "# Step 5: Interactive mode\n",
        "def chat_with_agent():\n",
        "    \"\"\"Interactive chat with tool-using agent\"\"\"\n",
        "    print(\"\\n🛠️ Chat with your agent (now with tools!)\")\n",
        "    print(\"Try asking for calculations or weather!\")\n",
        "    print(\"Type 'quit' to exit\")\n",
        "\n",
        "    while True:\n",
        "        user_input = input(\"\\n👤 You: \")\n",
        "\n",
        "        if user_input.lower() in ['quit', 'exit', 'q']:\n",
        "            print(\"👋 Goodbye!\")\n",
        "            break\n",
        "\n",
        "        if user_input.strip():\n",
        "            response = agent_with_tools(user_input)\n",
        "            print(f\"🤖 Final: {response}\")\n",
        "\n",
        "print(\"\\n🎉 Your AI can now use tools!\")"
      ]
    },
    {
      "cell_type": "markdown",
      "source": [
        "Your turn to test it"
      ],
      "metadata": {
        "id": "vWebD0V59t1M"
      }
    },
    {
      "cell_type": "code",
      "source": [
        "chat_with_agent()"
      ],
      "metadata": {
        "id": "Y-DyDSZZ9yZE"
      },
      "execution_count": null,
      "outputs": []
    },
    {
      "cell_type": "markdown",
      "source": [
        "## Exercise: Redefine our tools with using realistic results just by using APIs."
      ],
      "metadata": {
        "id": "iRiWAdh9-6dp"
      }
    }
  ]
}